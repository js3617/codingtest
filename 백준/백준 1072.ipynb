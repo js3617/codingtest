{
 "cells": [
  {
   "cell_type": "code",
   "execution_count": 1,
   "metadata": {},
   "outputs": [
    {
     "name": "stdout",
     "output_type": "stream",
     "text": [
      "1000\n"
     ]
    }
   ],
   "source": [
    "x, y = map(int, input().split()) # 각 리스트의 요소를 정수로 변환\n",
    "z = (y*100) // x\n",
    "\n",
    "if z > 98: #98 초과하면 -1 출력하는\n",
    "    print(-1)\n",
    "    exit()\n",
    "start = 0\n",
    "end = x\n",
    "while start < end: #시작 값이 끝 값보다 작은 동안 아래의 코드를 반복\n",
    "    mid = (end + start) // 2 #시작 값과 끝 값의 중간 값\n",
    "    if (y + mid) * 100 // (x + mid) !=z: #중간 값을 이용하여 z 값과 같은지를 비교, 만약 계산된 비율이 z와 다르다면, 이진 탐색의 끝 값을 중간 값으로 설정\n",
    "        end = mid\n",
    "    else:\n",
    "        start = mid + 1\n",
    "mid = (start + end) // 2 #시작 값과 끝 값의 중간 값을 다시\n",
    "print(mid)"
   ]
  },
  {
   "cell_type": "code",
   "execution_count": null,
   "metadata": {},
   "outputs": [],
   "source": []
  }
 ],
 "metadata": {
  "kernelspec": {
   "display_name": "Python 3",
   "language": "python",
   "name": "python3"
  },
  "language_info": {
   "codemirror_mode": {
    "name": "ipython",
    "version": 3
   },
   "file_extension": ".py",
   "mimetype": "text/x-python",
   "name": "python",
   "nbconvert_exporter": "python",
   "pygments_lexer": "ipython3",
   "version": "3.10.10"
  },
  "orig_nbformat": 4
 },
 "nbformat": 4,
 "nbformat_minor": 2
}
