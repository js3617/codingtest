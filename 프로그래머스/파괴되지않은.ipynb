{
 "cells": [
  {
   "cell_type": "code",
   "execution_count": 1,
   "metadata": {},
   "outputs": [
    {
     "name": "stdout",
     "output_type": "stream",
     "text": [
      "<function solution at 0x000001DE757263B0>\n"
     ]
    }
   ],
   "source": [
    "def solution(bo, skill):\n",
    "    answer = 0\n",
    "    \n",
    "    wall = bo\n",
    "    for s in skill:\n",
    "        if s[0] == 1:\n",
    "            for i in range(s[1], s[4] + 1):\n",
    "                for j in range(s[1], s[3] + 1):\n",
    "                    wall[i][j] -= s[5]\n",
    "                    continue\n",
    "        elif s[0] == 2:\n",
    "            for i in range(s[2], s[4] + 1):\n",
    "                for j in range(s[2], s[4] + 1):\n",
    "                    wall[i][j] += s[5]\n",
    "\n",
    "    \n",
    "\n",
    "    return answer\n",
    "print(solution([[5,5,5,5,5],[5,5,5,5,5],[5,5,5,5,5],[5,5,5,5,5]],\n",
    "               [[1,0,0,3,4,4],[1,2,0,2,3,2],[2,1,0,3,1,2],[1,0,1,3,3,1]]))"
   ]
  },
  {
   "cell_type": "code",
   "execution_count": null,
   "metadata": {},
   "outputs": [],
   "source": [
    "def solution(board, skill):\n",
    "    answer = 0\n",
    "    bo = board\n",
    "    for s in skill:\n",
    "        if s[0] == 1:\n",
    "            for i in range(s[1], s[3] + 1):\n",
    "                for j in range(s[2], s[4] + 1):\n",
    "                    bo[i][j] -= s[5]\n",
    "\n",
    "        elif s[0] == 2:\n",
    "            for i in range(s[1], s[3] + 1):\n",
    "                for j in range(s[2], s[4] + 1):\n",
    "                    bo[i][j] += s[5]\n",
    "    \n",
    "    for i in range(len(bo)):\n",
    "            for j in range(len(bo[0])):\n",
    "                if bo[i][j]+bo[i][j]>0:\n",
    "                    answer+=1\n",
    "\n",
    "    return answer\n",
    "print(solution([[1,2,3],[4,5,6],[7,8,9]],\n",
    "               [[1,1,1,2,2,4],[1,0,0,1,1,2],[2,2,0,2,0,100]]))"
   ]
  },
  {
   "cell_type": "code",
   "execution_count": 1,
   "metadata": {},
   "outputs": [
    {
     "name": "stdout",
     "output_type": "stream",
     "text": [
      "0\n"
     ]
    }
   ],
   "source": [
    "def solution(bo, skill):\n",
    "    answer = 0\n",
    "\n",
    "    return answer\n",
    "\n",
    "print(solution([[5,5,5,5,5],[5,5,5,5,5],[5,5,5,5,5],[5,5,5,5,5]],\n",
    "               [[1,0,0,3,4,4],[1,2,0,2,3,2],[2,1,0,3,1,2],[1,0,1,3,3,1]]))"
   ]
  }
 ],
 "metadata": {
  "kernelspec": {
   "display_name": "Python 3",
   "language": "python",
   "name": "python3"
  },
  "language_info": {
   "codemirror_mode": {
    "name": "ipython",
    "version": 3
   },
   "file_extension": ".py",
   "mimetype": "text/x-python",
   "name": "python",
   "nbconvert_exporter": "python",
   "pygments_lexer": "ipython3",
   "version": "3.10.10"
  },
  "orig_nbformat": 4
 },
 "nbformat": 4,
 "nbformat_minor": 2
}
