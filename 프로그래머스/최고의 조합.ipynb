{
 "cells": [
  {
   "cell_type": "code",
   "execution_count": 1,
   "metadata": {},
   "outputs": [
    {
     "ename": "TypeError",
     "evalue": "solution() takes 2 positional arguments but 3 were given",
     "output_type": "error",
     "traceback": [
      "\u001b[1;31m---------------------------------------------------------------------------\u001b[0m",
      "\u001b[1;31mTypeError\u001b[0m                                 Traceback (most recent call last)",
      "Cell \u001b[1;32mIn[1], line 8\u001b[0m\n\u001b[0;32m      5\u001b[0m     answer \u001b[39m=\u001b[39m []\n\u001b[0;32m      6\u001b[0m     \u001b[39mreturn\u001b[39;00m answer\n\u001b[1;32m----> 8\u001b[0m \u001b[39mprint\u001b[39m(solution(\u001b[39m2\u001b[39;49m,\u001b[39m9\u001b[39;49m,[\u001b[39m4\u001b[39;49m, \u001b[39m5\u001b[39;49m]))\n",
      "\u001b[1;31mTypeError\u001b[0m: solution() takes 2 positional arguments but 3 were given"
     ]
    }
   ],
   "source": [
    "def solution(n, s):\n",
    "    if s < n:\n",
    "        return [-1]\n",
    "    \n",
    "    answer = []\n",
    "\n",
    "    divide = n // s\n",
    "\n",
    "    for _ in range(n):\n",
    "        answer.append(divide)\n",
    "    index = len(answer) -1\n",
    "\n",
    "    for _ in range(s % n):\n",
    "        answer[index] += 1\n",
    "        index -= 1\n",
    "    return answer\n",
    "\n",
    "print(solution(2,9))\n"
   ]
  },
  {
   "cell_type": "code",
   "execution_count": 8,
   "metadata": {},
   "outputs": [
    {
     "data": {
      "text/plain": [
       "1"
      ]
     },
     "execution_count": 8,
     "metadata": {},
     "output_type": "execute_result"
    }
   ],
   "source": [
    "9 % 2"
   ]
  },
  {
   "cell_type": "code",
   "execution_count": null,
   "metadata": {},
   "outputs": [],
   "source": [
    "print(solution(2,9,[4, 5]))\n"
   ]
  }
 ],
 "metadata": {
  "kernelspec": {
   "display_name": "Python 3",
   "language": "python",
   "name": "python3"
  },
  "language_info": {
   "codemirror_mode": {
    "name": "ipython",
    "version": 3
   },
   "file_extension": ".py",
   "mimetype": "text/x-python",
   "name": "python",
   "nbconvert_exporter": "python",
   "pygments_lexer": "ipython3",
   "version": "3.10.10"
  },
  "orig_nbformat": 4
 },
 "nbformat": 4,
 "nbformat_minor": 2
}
