{
 "cells": [
  {
   "cell_type": "code",
   "execution_count": 1,
   "metadata": {},
   "outputs": [],
   "source": [
    "def solution(n, m, x, y, r, c, k):\n",
    "    answer = ''\n",
    "\n",
    "    load = [[\".\" for _ in range(m)] for _ in range(n)]\n",
    "    startx, starty = x-1, y-1\n",
    "    endr, endc = r-1, c-1\n",
    "\n",
    "    load[startx][starty] = 'S'\n",
    "    load[endr][endc] = 'E'\n",
    "\n",
    "    direction = ['d','r','u','l']\n",
    "    for direction in direction:\n",
    "        dx, dy = 0, 0\n",
    "        if direction == 'd':\n",
    "            dx += 1\n",
    "        elif direction == 'r':\n",
    "            dy += 1\n",
    "        elif direction == 'u':\n",
    "            dx -= 1\n",
    "        else:\n",
    "            dy -= 1\n",
    "\n",
    "\n",
    "    return answer\n",
    "\n",
    "\n",
    "# print(solution(3,4,2,3,3,1,5))\n",
    "# print(solution(3,3,2,3,3,1,5))"
   ]
  },
  {
   "cell_type": "code",
   "execution_count": 5,
   "metadata": {},
   "outputs": [
    {
     "data": {
      "text/plain": [
       "1"
      ]
     },
     "execution_count": 5,
     "metadata": {},
     "output_type": "execute_result"
    }
   ],
   "source": [
    "def solution(n, m, x, y, r, c, k):\n",
    "    answer = \"\"\n",
    " \n",
    "    # h = 최단거리길이\n",
    "    h = abs(r-x) + abs(c-y)\n",
    "    if k < h or (k-h) % 2 == 1:\n",
    "        return 'impossible'\n",
    " \n",
    "    down, left, right, up = 0, 0, 0, 0\n",
    " \n",
    "    # d, l, r, u 최소 개수 저장\n",
    "    if r-x > 0:\n",
    "        down = r-x\n",
    "    else:\n",
    "        up = x-r\n",
    " \n",
    "    if c-y > 0:\n",
    "        right = c-y\n",
    "    else:\n",
    "        left = y-c\n",
    " \n",
    "    move = k-h\n",
    " \n",
    "    # down\n",
    "    answer += \"d\"*down\n",
    "    down = min(move//2, n-(x+down))\n",
    "    answer += \"d\"*down\n",
    "    up += down\n",
    "    move -= 2*down\n",
    " \n",
    "    # left\n",
    "    answer += \"l\"*left\n",
    "    left = min(move//2, y-left-1)\n",
    "    answer += \"l\"*left\n",
    "    right += left\n",
    "    move -= 2*left\n",
    " \n",
    "    # right, up\n",
    "    answer += 'rl'*(move//2)    # 남은 movement를 rl로 대체\n",
    "    answer += 'r'*right\n",
    "    answer += 'u'*up\n",
    " \n",
    "    return answer"
   ]
  },
  {
   "cell_type": "code",
   "execution_count": 6,
   "metadata": {},
   "outputs": [
    {
     "ename": "SyntaxError",
     "evalue": "invalid syntax (2652421667.py, line 1)",
     "output_type": "error",
     "traceback": [
      "\u001b[1;36m  Cell \u001b[1;32mIn[6], line 1\u001b[1;36m\u001b[0m\n\u001b[1;33m    깊이 탐색\u001b[0m\n\u001b[1;37m       ^\u001b[0m\n\u001b[1;31mSyntaxError\u001b[0m\u001b[1;31m:\u001b[0m invalid syntax\n"
     ]
    }
   ],
   "source": [
    "깊이 탐색\n",
    "맨허튼 거리 선정 이유\n",
    "안되는 경우 2가지\n",
    "k를 다써야 하는데 목표 지점을 지났다 오면 남은 경우가 짝수여야하는데 홀수면 안된다\n"
   ]
  },
  {
   "cell_type": "code",
   "execution_count": null,
   "metadata": {},
   "outputs": [],
   "source": [
    "def solution(n, m, x, y, r, c, k):\n",
    "    lrud = {0: 'd', 1: 'l', 2: 'r', 3: 'u'}\n",
    "    dx = [1, 0, 0, -1]\n",
    "    dy = [0, -1, 1, 0]\n",
    "    answer = 'impossible'\n",
    "    flag = False\n",
    "    stack = []\n",
    "\n",
    "    def DFS(X, Y, L):\n",
    "        nonlocal answer, flag\n",
    "        if flag or k < L + abs(X - r) + abs(Y - c):\n",
    "            return\n",
    "        if L == k and (X, Y) == (r, c):\n",
    "            answer = ''.join(stack)\n",
    "            flag = True\n",
    "        else:\n",
    "            for i in range(4):\n",
    "                nX = X + dx[i]\n",
    "                nY = Y + dy[i]\n",
    "                if 1 <= nX <= n and 1 <= nY <= m:\n",
    "                    stack.append(lrud[i])\n",
    "                    DFS(nX, nY, L+1)\n",
    "                    stack.pop()\n",
    "\n",
    "dist = abs(x - r) + abs( y - c)\n",
    "if dist <= k and (k - dist) % 2 == 0:\n",
    "    DFS(x, y, 0)\n",
    "return answer"
   ]
  }
 ],
 "metadata": {
  "kernelspec": {
   "display_name": "Python 3",
   "language": "python",
   "name": "python3"
  },
  "language_info": {
   "codemirror_mode": {
    "name": "ipython",
    "version": 3
   },
   "file_extension": ".py",
   "mimetype": "text/x-python",
   "name": "python",
   "nbconvert_exporter": "python",
   "pygments_lexer": "ipython3",
   "version": "3.10.10"
  },
  "orig_nbformat": 4
 },
 "nbformat": 4,
 "nbformat_minor": 2
}
