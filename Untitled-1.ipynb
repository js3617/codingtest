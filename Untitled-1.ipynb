{
 "cells": [
  {
   "cell_type": "code",
   "execution_count": null,
   "metadata": {},
   "outputs": [],
   "source": [
    "#17298\n",
    "n = int(input())\n",
    "a = list(map(int,input().split()))\n",
    "result = []\n",
    "\n",
    "for i in range(0,n):\n",
    "    for k in range(i+1,n):\n",
    "        if a[k]>a[i]:\n",
    "            result.append(a[k])\n",
    "            break\n",
    "        else:\n",
    "            result.append(-1)\n",
    "\n",
    "    for t in result:\n",
    "        print(t, end=\" \")"
   ]
  },
  {
   "cell_type": "code",
   "execution_count": null,
   "metadata": {},
   "outputs": [],
   "source": [
    "def max_yack(a,b):\n",
    "    result = []\n",
    "    \n",
    "    for i range(1, a + 1):\n",
    "        if (a % i == 0) & (b % i == 0)\n",
    "            result.append(i)\n",
    "        \n",
    "    \n",
    "\n",
    "    return result\n",
    "print(max_yack(60, 28))"
   ]
  },
  {
   "cell_type": "code",
   "execution_count": 5,
   "metadata": {},
   "outputs": [
    {
     "name": "stdout",
     "output_type": "stream",
     "text": [
      "31492\n"
     ]
    }
   ],
   "source": [
    "pen = int(input(\"펜 가격\"))\n",
    "sale = int(input(\"할인율\"))\n",
    "amount = int(input(\"개수\"))\n",
    "\n",
    "result = pen * (1-(sale * 0.01)) * amount\n",
    "print(int(result))"
   ]
  },
  {
   "cell_type": "code",
   "execution_count": 6,
   "metadata": {},
   "outputs": [
    {
     "ename": "TypeError",
     "evalue": "int() argument must be a string, a bytes-like object or a real number, not 'list'",
     "output_type": "error",
     "traceback": [
      "\u001b[1;31m---------------------------------------------------------------------------\u001b[0m",
      "\u001b[1;31mTypeError\u001b[0m                                 Traceback (most recent call last)",
      "\u001b[1;32mc:\\Users\\qkrwo\\Desktop\\baekjoon\\Untitled-1.ipynb 셀 4\u001b[0m line \u001b[0;36m1\n\u001b[1;32m----> <a href='vscode-notebook-cell:/c%3A/Users/qkrwo/Desktop/baekjoon/Untitled-1.ipynb#W3sZmlsZQ%3D%3D?line=0'>1</a>\u001b[0m a \u001b[39m=\u001b[39m \u001b[39mlist\u001b[39m(\u001b[39mint\u001b[39;49m(\u001b[39minput\u001b[39;49m(\u001b[39m\"\u001b[39;49m\u001b[39m숫자를 입력하세요.\u001b[39;49m\u001b[39m\"\u001b[39;49m)\u001b[39m.\u001b[39;49msplit()))\n\u001b[0;32m      <a href='vscode-notebook-cell:/c%3A/Users/qkrwo/Desktop/baekjoon/Untitled-1.ipynb#W3sZmlsZQ%3D%3D?line=2'>3</a>\u001b[0m max_v \u001b[39m=\u001b[39m a[\u001b[39m0\u001b[39m]\n\u001b[0;32m      <a href='vscode-notebook-cell:/c%3A/Users/qkrwo/Desktop/baekjoon/Untitled-1.ipynb#W3sZmlsZQ%3D%3D?line=3'>4</a>\u001b[0m \u001b[39mfor\u001b[39;00m i \u001b[39min\u001b[39;00m \u001b[39mrange\u001b[39m(\u001b[39m1\u001b[39m, \u001b[39mlen\u001b[39m(a)):\n",
      "\u001b[1;31mTypeError\u001b[0m: int() argument must be a string, a bytes-like object or a real number, not 'list'"
     ]
    }
   ],
   "source": [
    "a = list(int(input(\"숫자를 입력하세요.\").split()))\n",
    "\n",
    "max_v = a[0]\n",
    "for i in range(1, len(a)):\n",
    "    if max_v < a[i]:\n",
    "        max_v = a[i]\n",
    "print(max_v)"
   ]
  },
  {
   "cell_type": "code",
   "execution_count": 8,
   "metadata": {},
   "outputs": [
    {
     "name": "stdout",
     "output_type": "stream",
     "text": [
      "121343212314\n"
     ]
    }
   ],
   "source": [
    "a = [12312313,235265123,123124565,121343212314,12343246665,124139932,11123123123]\n",
    "\n",
    "max_v = a[0]\n",
    "for i in range(1, len(a)):\n",
    "    if max_v < a[i]:\n",
    "        max_v = a[i]\n",
    "print(max_v)"
   ]
  },
  {
   "cell_type": "code",
   "execution_count": 3,
   "metadata": {},
   "outputs": [
    {
     "name": "stdout",
     "output_type": "stream",
     "text": [
      "[6, 3, 1]\n"
     ]
    }
   ],
   "source": [
    "def binary(n):\n",
    "    answer = []\n",
    "    while n > 1:\n",
    "        b = n % 2\n",
    "        n = n // 2\n",
    "        answer.append(b)\n",
    "\n",
    "    return answer\n",
    "print(binary(13))"
   ]
  },
  {
   "cell_type": "code",
   "execution_count": 1,
   "metadata": {},
   "outputs": [
    {
     "name": "stdout",
     "output_type": "stream",
     "text": [
      "['apple', 'banan', 'grape']\n"
     ]
    }
   ],
   "source": [
    "s = \"apple banan grape\"\n",
    "print(s.split())"
   ]
  },
  {
   "cell_type": "code",
   "execution_count": 2,
   "metadata": {},
   "outputs": [
    {
     "name": "stdout",
     "output_type": "stream",
     "text": [
      "1 21 12412\n"
     ]
    }
   ],
   "source": [
    "pen, sale, amount = input(\"펜, 할인율, 개수 입력 : \").split()\n",
    "print(pen, sale, amount)"
   ]
  },
  {
   "cell_type": "code",
   "execution_count": null,
   "metadata": {},
   "outputs": [],
   "source": [
    "x = input().split()\n",
    "tuple()"
   ]
  }
 ],
 "metadata": {
  "kernelspec": {
   "display_name": "base",
   "language": "python",
   "name": "python3"
  },
  "language_info": {
   "codemirror_mode": {
    "name": "ipython",
    "version": 3
   },
   "file_extension": ".py",
   "mimetype": "text/x-python",
   "name": "python",
   "nbconvert_exporter": "python",
   "pygments_lexer": "ipython3",
   "version": "3.10.9"
  },
  "orig_nbformat": 4
 },
 "nbformat": 4,
 "nbformat_minor": 2
}
